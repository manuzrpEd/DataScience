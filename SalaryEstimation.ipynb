{
 "cells": [
  {
   "cell_type": "markdown",
   "metadata": {
    "colab_type": "text",
    "id": "x_BkOtqBIKQz"
   },
   "source": [
    "# Data Science Challenge\n",
    "In this exercise, we are going to load a data set on variables that relate to Salaries. We will build a model that can predict salary and identify how different features influence its magnitude."
   ]
  },
  {
   "cell_type": "code",
   "execution_count": 372,
   "metadata": {
    "colab": {},
    "colab_type": "code",
    "id": "VzGFUCCVIKRL"
   },
   "outputs": [],
   "source": [
    "#Libraries\n",
    "# https://www.datacamp.com/community/tutorials/categorical-data\n",
    "# https://machinelearningmastery.com/calculate-feature-importance-with-python/\n",
    "import pandas as pd\n",
    "from sklearn.datasets import make_regression\n",
    "from sklearn.linear_model import LinearRegression\n",
    "from matplotlib import pyplot\n",
    "import numpy as np\n",
    "%matplotlib inline\n",
    "import seaborn as sns\n",
    "import matplotlib.pyplot as plt\n",
    "# pd.set_option(\"display.max_columns\", 101)\n",
    "import warnings\n",
    "warnings.filterwarnings('ignore')\n",
    "import xgboost\n",
    "from xgboost import XGBRegressor\n",
    "from sklearn.metrics import mean_absolute_error"
   ]
  },
  {
   "cell_type": "markdown",
   "metadata": {
    "colab_type": "text",
    "id": "TZ23KNY8IKRT"
   },
   "source": [
    "## Data Description"
   ]
  },
  {
   "cell_type": "markdown",
   "metadata": {
    "colab_type": "text",
    "id": "jWSkqquEIKRW"
   },
   "source": [
    "Column | Description\n",
    ":---|:---\n",
    "`id` | Record index\n",
    "`timestamp` | Datetime (YYYY:MM:DD HH:MM:SS)\n",
    "`country` | Current country of employment\n",
    "`employment_status` | Employment status (Full time, Part time, Independent or freelancer)\n",
    "`job_title` | Current job title of the candidate\n",
    "`job_years` | No. of years working on the job\n",
    "`is_manager` | Whether the candidate holds a managerial position or not (Yes or No)\n",
    "`hours_per_week` | No. of hours per day committed to the current job\n",
    "`telecommute_days_per_week` | No. of telecommuting days per week (working from home)\n",
    "`education` | Highest degree in education the candidate has received\n",
    "`is_education_computer_related` | Is the education related to the field of computer science (Yes or No)\n",
    "`certifications` | Does the candidate have any relevant certifications (Yes or No)\n",
    "`salary` | Monthly Salary (in US $$)\n"
   ]
  },
  {
   "cell_type": "markdown",
   "metadata": {
    "colab_type": "text",
    "id": "BWQqx7cSIKRX"
   },
   "source": [
    "## Data Wrangling & Visualization"
   ]
  },
  {
   "cell_type": "code",
   "execution_count": 373,
   "metadata": {
    "colab": {},
    "colab_type": "code",
    "id": "SsjL7tf7IKRc"
   },
   "outputs": [],
   "source": [
    "# Dataset is already loaded below\n",
    "data = pd.read_csv(\"train.csv\")"
   ]
  },
  {
   "cell_type": "code",
   "execution_count": 374,
   "metadata": {
    "colab": {},
    "colab_type": "code",
    "id": "kzuHtZEkIKRh",
    "outputId": "9d14832c-2eda-48eb-df41-548113a94a73",
    "scrolled": true
   },
   "outputs": [
    {
     "data": {
      "text/html": [
       "<div>\n",
       "<style scoped>\n",
       "    .dataframe tbody tr th:only-of-type {\n",
       "        vertical-align: middle;\n",
       "    }\n",
       "\n",
       "    .dataframe tbody tr th {\n",
       "        vertical-align: top;\n",
       "    }\n",
       "\n",
       "    .dataframe thead th {\n",
       "        text-align: right;\n",
       "    }\n",
       "</style>\n",
       "<table border=\"1\" class=\"dataframe\">\n",
       "  <thead>\n",
       "    <tr style=\"text-align: right;\">\n",
       "      <th></th>\n",
       "      <th>id</th>\n",
       "      <th>timestamp</th>\n",
       "      <th>country</th>\n",
       "      <th>employment_status</th>\n",
       "      <th>job_title</th>\n",
       "      <th>job_years</th>\n",
       "      <th>is_manager</th>\n",
       "      <th>hours_per_week</th>\n",
       "      <th>telecommute_days_per_week</th>\n",
       "      <th>education</th>\n",
       "      <th>is_education_computer_related</th>\n",
       "      <th>certifications</th>\n",
       "      <th>salary</th>\n",
       "    </tr>\n",
       "  </thead>\n",
       "  <tbody>\n",
       "    <tr>\n",
       "      <th>0</th>\n",
       "      <td>1</td>\n",
       "      <td>12/11/2018 10:52:26</td>\n",
       "      <td>Slovenia</td>\n",
       "      <td>Full time</td>\n",
       "      <td>Developer</td>\n",
       "      <td>4.78393</td>\n",
       "      <td>Yes</td>\n",
       "      <td>40.0</td>\n",
       "      <td>0.0</td>\n",
       "      <td>Bachelors (4 years)</td>\n",
       "      <td>Yes</td>\n",
       "      <td>No</td>\n",
       "      <td>7187.743094</td>\n",
       "    </tr>\n",
       "    <tr>\n",
       "      <th>1</th>\n",
       "      <td>2</td>\n",
       "      <td>1/5/2017 16:57:50</td>\n",
       "      <td>United States</td>\n",
       "      <td>Full time</td>\n",
       "      <td>DBA</td>\n",
       "      <td>5.00000</td>\n",
       "      <td>No</td>\n",
       "      <td>40.0</td>\n",
       "      <td>5.0</td>\n",
       "      <td>Bachelors (4 years)</td>\n",
       "      <td>Yes</td>\n",
       "      <td>No</td>\n",
       "      <td>10000.000000</td>\n",
       "    </tr>\n",
       "    <tr>\n",
       "      <th>2</th>\n",
       "      <td>3</td>\n",
       "      <td>12/18/2017 8:13:15</td>\n",
       "      <td>Sweden</td>\n",
       "      <td>Full time</td>\n",
       "      <td>DBA</td>\n",
       "      <td>1.00000</td>\n",
       "      <td>No</td>\n",
       "      <td>40.0</td>\n",
       "      <td>0.0</td>\n",
       "      <td>Masters</td>\n",
       "      <td>Yes</td>\n",
       "      <td>Yes</td>\n",
       "      <td>7000.000000</td>\n",
       "    </tr>\n",
       "    <tr>\n",
       "      <th>3</th>\n",
       "      <td>4</td>\n",
       "      <td>12/27/2018 4:56:52</td>\n",
       "      <td>United States</td>\n",
       "      <td>Full time</td>\n",
       "      <td>DBA</td>\n",
       "      <td>1.00000</td>\n",
       "      <td>No</td>\n",
       "      <td>40.0</td>\n",
       "      <td>2.0</td>\n",
       "      <td>Bachelors (4 years)</td>\n",
       "      <td>No</td>\n",
       "      <td>No</td>\n",
       "      <td>8333.000000</td>\n",
       "    </tr>\n",
       "    <tr>\n",
       "      <th>4</th>\n",
       "      <td>5</td>\n",
       "      <td>12/11/2018 14:07:58</td>\n",
       "      <td>United States</td>\n",
       "      <td>Full time</td>\n",
       "      <td>Developer</td>\n",
       "      <td>3.00000</td>\n",
       "      <td>No</td>\n",
       "      <td>40.0</td>\n",
       "      <td>2.0</td>\n",
       "      <td>Masters</td>\n",
       "      <td>Yes</td>\n",
       "      <td>Yes</td>\n",
       "      <td>7137.000000</td>\n",
       "    </tr>\n",
       "  </tbody>\n",
       "</table>\n",
       "</div>"
      ],
      "text/plain": [
       "   id            timestamp        country employment_status  job_title  \\\n",
       "0   1  12/11/2018 10:52:26       Slovenia         Full time  Developer   \n",
       "1   2    1/5/2017 16:57:50  United States         Full time        DBA   \n",
       "2   3   12/18/2017 8:13:15         Sweden         Full time        DBA   \n",
       "3   4   12/27/2018 4:56:52  United States         Full time        DBA   \n",
       "4   5  12/11/2018 14:07:58  United States         Full time  Developer   \n",
       "\n",
       "   job_years is_manager  hours_per_week  telecommute_days_per_week  \\\n",
       "0    4.78393        Yes            40.0                        0.0   \n",
       "1    5.00000         No            40.0                        5.0   \n",
       "2    1.00000         No            40.0                        0.0   \n",
       "3    1.00000         No            40.0                        2.0   \n",
       "4    3.00000         No            40.0                        2.0   \n",
       "\n",
       "             education is_education_computer_related certifications  \\\n",
       "0  Bachelors (4 years)                           Yes             No   \n",
       "1  Bachelors (4 years)                           Yes             No   \n",
       "2              Masters                           Yes            Yes   \n",
       "3  Bachelors (4 years)                            No             No   \n",
       "4              Masters                           Yes            Yes   \n",
       "\n",
       "         salary  \n",
       "0   7187.743094  \n",
       "1  10000.000000  \n",
       "2   7000.000000  \n",
       "3   8333.000000  \n",
       "4   7137.000000  "
      ]
     },
     "execution_count": 374,
     "metadata": {},
     "output_type": "execute_result"
    }
   ],
   "source": [
    "data.head()"
   ]
  },
  {
   "cell_type": "markdown",
   "metadata": {},
   "source": [
    "Explore columns"
   ]
  },
  {
   "cell_type": "code",
   "execution_count": 375,
   "metadata": {
    "colab": {},
    "colab_type": "code",
    "id": "0mhMZRlBIKRu",
    "outputId": "0a669059-5528-4ec0-d64b-8231f6aadf45",
    "scrolled": true
   },
   "outputs": [
    {
     "data": {
      "text/plain": [
       "Index(['id', 'timestamp', 'country', 'employment_status', 'job_title',\n",
       "       'job_years', 'is_manager', 'hours_per_week',\n",
       "       'telecommute_days_per_week', 'education',\n",
       "       'is_education_computer_related', 'certifications', 'salary'],\n",
       "      dtype='object')"
      ]
     },
     "execution_count": 375,
     "metadata": {},
     "output_type": "execute_result"
    }
   ],
   "source": [
    "data.columns"
   ]
  },
  {
   "cell_type": "markdown",
   "metadata": {},
   "source": [
    "Description"
   ]
  },
  {
   "cell_type": "code",
   "execution_count": 376,
   "metadata": {
    "colab": {},
    "colab_type": "code",
    "id": "-SrTmyfJIKR1",
    "outputId": "12b270ca-8c3f-402b-d6c1-286c17e63fdd",
    "scrolled": true
   },
   "outputs": [
    {
     "data": {
      "text/html": [
       "<div>\n",
       "<style scoped>\n",
       "    .dataframe tbody tr th:only-of-type {\n",
       "        vertical-align: middle;\n",
       "    }\n",
       "\n",
       "    .dataframe tbody tr th {\n",
       "        vertical-align: top;\n",
       "    }\n",
       "\n",
       "    .dataframe thead th {\n",
       "        text-align: right;\n",
       "    }\n",
       "</style>\n",
       "<table border=\"1\" class=\"dataframe\">\n",
       "  <thead>\n",
       "    <tr style=\"text-align: right;\">\n",
       "      <th></th>\n",
       "      <th>id</th>\n",
       "      <th>job_years</th>\n",
       "      <th>hours_per_week</th>\n",
       "      <th>telecommute_days_per_week</th>\n",
       "      <th>salary</th>\n",
       "    </tr>\n",
       "  </thead>\n",
       "  <tbody>\n",
       "    <tr>\n",
       "      <th>count</th>\n",
       "      <td>4277.00000</td>\n",
       "      <td>4277.000000</td>\n",
       "      <td>4260.000000</td>\n",
       "      <td>4266.000000</td>\n",
       "      <td>4277.000000</td>\n",
       "    </tr>\n",
       "    <tr>\n",
       "      <th>mean</th>\n",
       "      <td>2139.00000</td>\n",
       "      <td>4.479697</td>\n",
       "      <td>40.859110</td>\n",
       "      <td>1.034927</td>\n",
       "      <td>7057.701984</td>\n",
       "    </tr>\n",
       "    <tr>\n",
       "      <th>std</th>\n",
       "      <td>1234.80788</td>\n",
       "      <td>1.990783</td>\n",
       "      <td>1.754911</td>\n",
       "      <td>1.651160</td>\n",
       "      <td>1308.572568</td>\n",
       "    </tr>\n",
       "    <tr>\n",
       "      <th>min</th>\n",
       "      <td>1.00000</td>\n",
       "      <td>0.000000</td>\n",
       "      <td>37.000000</td>\n",
       "      <td>0.000000</td>\n",
       "      <td>3622.000000</td>\n",
       "    </tr>\n",
       "    <tr>\n",
       "      <th>25%</th>\n",
       "      <td>1070.00000</td>\n",
       "      <td>3.407156</td>\n",
       "      <td>40.000000</td>\n",
       "      <td>0.000000</td>\n",
       "      <td>6496.788236</td>\n",
       "    </tr>\n",
       "    <tr>\n",
       "      <th>50%</th>\n",
       "      <td>2139.00000</td>\n",
       "      <td>4.640830</td>\n",
       "      <td>40.000000</td>\n",
       "      <td>0.000000</td>\n",
       "      <td>7166.000000</td>\n",
       "    </tr>\n",
       "    <tr>\n",
       "      <th>75%</th>\n",
       "      <td>3208.00000</td>\n",
       "      <td>5.000000</td>\n",
       "      <td>41.114138</td>\n",
       "      <td>1.000000</td>\n",
       "      <td>7614.831964</td>\n",
       "    </tr>\n",
       "    <tr>\n",
       "      <th>max</th>\n",
       "      <td>4277.00000</td>\n",
       "      <td>10.000000</td>\n",
       "      <td>45.000000</td>\n",
       "      <td>5.000000</td>\n",
       "      <td>10625.000000</td>\n",
       "    </tr>\n",
       "  </tbody>\n",
       "</table>\n",
       "</div>"
      ],
      "text/plain": [
       "               id    job_years  hours_per_week  telecommute_days_per_week  \\\n",
       "count  4277.00000  4277.000000     4260.000000                4266.000000   \n",
       "mean   2139.00000     4.479697       40.859110                   1.034927   \n",
       "std    1234.80788     1.990783        1.754911                   1.651160   \n",
       "min       1.00000     0.000000       37.000000                   0.000000   \n",
       "25%    1070.00000     3.407156       40.000000                   0.000000   \n",
       "50%    2139.00000     4.640830       40.000000                   0.000000   \n",
       "75%    3208.00000     5.000000       41.114138                   1.000000   \n",
       "max    4277.00000    10.000000       45.000000                   5.000000   \n",
       "\n",
       "             salary  \n",
       "count   4277.000000  \n",
       "mean    7057.701984  \n",
       "std     1308.572568  \n",
       "min     3622.000000  \n",
       "25%     6496.788236  \n",
       "50%     7166.000000  \n",
       "75%     7614.831964  \n",
       "max    10625.000000  "
      ]
     },
     "execution_count": 376,
     "metadata": {},
     "output_type": "execute_result"
    }
   ],
   "source": [
    "data.describe()"
   ]
  },
  {
   "cell_type": "markdown",
   "metadata": {},
   "source": [
    "Let's remove Timestamp and instead add year variables"
   ]
  },
  {
   "cell_type": "code",
   "execution_count": 377,
   "metadata": {},
   "outputs": [
    {
     "data": {
      "text/plain": [
       "Index(['id', 'country', 'employment_status', 'job_title', 'job_years',\n",
       "       'is_manager', 'hours_per_week', 'telecommute_days_per_week',\n",
       "       'education', 'is_education_computer_related', 'certifications',\n",
       "       'salary', 'year'],\n",
       "      dtype='object')"
      ]
     },
     "execution_count": 377,
     "metadata": {},
     "output_type": "execute_result"
    }
   ],
   "source": [
    "data['year']=pd.DatetimeIndex(data['timestamp']).year\n",
    "data=data.drop(columns=['timestamp'])\n",
    "data.columns"
   ]
  },
  {
   "cell_type": "markdown",
   "metadata": {},
   "source": [
    "categorical variables value frequencies"
   ]
  },
  {
   "cell_type": "code",
   "execution_count": 378,
   "metadata": {
    "colab": {},
    "colab_type": "code",
    "id": "fp1nvdh-IKSE"
   },
   "outputs": [
    {
     "data": {
      "text/plain": [
       "Yes    2185\n",
       "No     2092\n",
       "Name: certifications, dtype: int64"
      ]
     },
     "execution_count": 378,
     "metadata": {},
     "output_type": "execute_result"
    }
   ],
   "source": [
    "data['certifications'].value_counts()"
   ]
  },
  {
   "cell_type": "code",
   "execution_count": 379,
   "metadata": {
    "colab": {},
    "colab_type": "code",
    "id": "px5KNTQ7IKSK"
   },
   "outputs": [
    {
     "data": {
      "text/plain": [
       "Yes        2425\n",
       "No         1193\n",
       "Unknown     643\n",
       "Name: is_education_computer_related, dtype: int64"
      ]
     },
     "execution_count": 379,
     "metadata": {},
     "output_type": "execute_result"
    }
   ],
   "source": [
    "data['is_education_computer_related'].value_counts()"
   ]
  },
  {
   "cell_type": "code",
   "execution_count": 380,
   "metadata": {
    "colab": {},
    "colab_type": "code",
    "id": "W9B6xKGpIKSQ"
   },
   "outputs": [
    {
     "data": {
      "text/plain": [
       "No     3293\n",
       "Yes     984\n",
       "Name: is_manager, dtype: int64"
      ]
     },
     "execution_count": 380,
     "metadata": {},
     "output_type": "execute_result"
    }
   ],
   "source": [
    "data['is_manager'].value_counts()"
   ]
  },
  {
   "cell_type": "code",
   "execution_count": 381,
   "metadata": {
    "scrolled": false
   },
   "outputs": [
    {
     "data": {
      "text/plain": [
       "Full time                                     4088\n",
       "Independent or freelancer or company owner     170\n",
       "Part time                                       19\n",
       "Name: employment_status, dtype: int64"
      ]
     },
     "execution_count": 381,
     "metadata": {},
     "output_type": "execute_result"
    }
   ],
   "source": [
    "data['employment_status'].value_counts()"
   ]
  },
  {
   "cell_type": "code",
   "execution_count": 382,
   "metadata": {},
   "outputs": [
    {
     "data": {
      "image/png": "[encoded data removed]",
      "text/plain": [
       "<Figure size 432x288 with 1 Axes>"
      ]
     },
     "metadata": {},
     "output_type": "display_data"
    }
   ],
   "source": [
    "country_count = data['country'].value_counts()\n",
    "sns.set(style=\"darkgrid\")\n",
    "sns.barplot(country_count.index[0:20],country_count.values[0:20],alpha=0.9)\n",
    "plt.title('Frequency Distribution of Country')\n",
    "plt.ylabel('Number of Occurrences',fontsize=12)\n",
    "plt.xlabel('Country', fontsize=12)\n",
    "pyplot.xticks(rotation=90)\n",
    "plt.show()"
   ]
  },
  {
   "cell_type": "code",
   "execution_count": 383,
   "metadata": {},
   "outputs": [
    {
     "data": {
      "image/png": "[encoded data removed]",
      "text/plain": [
       "<Figure size 432x288 with 1 Axes>"
      ]
     },
     "metadata": {},
     "output_type": "display_data"
    }
   ],
   "source": [
    "job_title=data['job_title'].value_counts()\n",
    "sns.set(style=\"darkgrid\")\n",
    "sns.barplot(job_title.index[0:20],job_title.values[0:20],alpha=0.9)\n",
    "plt.title('Frequency Distribution of Job Title')\n",
    "plt.ylabel('Number of Occurrences',fontsize=12)\n",
    "plt.xlabel('Job Title', fontsize=12)\n",
    "pyplot.xticks(rotation=90)\n",
    "plt.show()"
   ]
  },
  {
   "cell_type": "markdown",
   "metadata": {},
   "source": [
    "I will transform all categorical variables to dummy variables"
   ]
  },
  {
   "cell_type": "code",
   "execution_count": 384,
   "metadata": {},
   "outputs": [],
   "source": [
    "country=pd.get_dummies(data['country'],drop_first=True,dummy_na=False).reset_index(drop=True)\n",
    "country=country.add_prefix('country_')\n",
    "employment_status=pd.get_dummies(data['employment_status'],drop_first=True,dummy_na=False).reset_index(drop=True)\n",
    "employment_status=employment_status.add_prefix('employment_status_')\n",
    "job_title=pd.get_dummies(data['job_title'],drop_first=True,dummy_na=False).reset_index(drop=True)\n",
    "job_title=job_title.add_prefix('job_title_')\n",
    "education=pd.get_dummies(data['education'],drop_first=True,dummy_na=False).reset_index(drop=True)\n",
    "education=education.add_prefix('education_')\n",
    "is_education_computer_related=pd.get_dummies(data['is_education_computer_related'],dummy_na=False).reset_index(drop=True)\n",
    "is_education_computer_related=is_education_computer_related.add_prefix('is_education_computer_related_')\n",
    "certifications=pd.get_dummies(data['certifications'],drop_first=True,dummy_na=False).reset_index(drop=True)\n",
    "certifications=certifications.add_prefix('certifications_')\n",
    "is_manager=pd.get_dummies(data['is_manager'],drop_first=True,dummy_na=False).reset_index(drop=True)\n",
    "is_manager=is_manager.add_prefix('is_manager_')\n",
    "data.drop(['country','employment_status','job_title','education','is_education_computer_related','certifications','is_manager'],axis=1,inplace=True)\n",
    "data=pd.concat([data,country,employment_status,job_title,education,is_education_computer_related,certifications,is_manager], axis=1)"
   ]
  },
  {
   "cell_type": "markdown",
   "metadata": {
    "colab_type": "text",
    "id": "ymsdDaIPIKSX"
   },
   "source": [
    "## Visualization, Modeling, Machine Learning\n",
    "\n",
    "Build a model that can predict  salary and identify how different features influence their decision. Please explain the findings effectively to technical and non-technical audiences using comments and visualizations, if appropriate.\n",
    "- **Build an optimized model that effectively solves the business problem.**\n",
    "- **The model will be evaluated on the basis of mean absolute error.**\n",
    "- **Read the test.csv file and prepare features for testing.**"
   ]
  },
  {
   "cell_type": "code",
   "execution_count": 385,
   "metadata": {
    "colab": {},
    "colab_type": "code",
    "id": "Hsxh3SMgIKSY",
    "outputId": "d98d0f00-f33f-407b-df59-a9915bb03fa1"
   },
   "outputs": [
    {
     "data": {
      "text/html": [
       "<div>\n",
       "<style scoped>\n",
       "    .dataframe tbody tr th:only-of-type {\n",
       "        vertical-align: middle;\n",
       "    }\n",
       "\n",
       "    .dataframe tbody tr th {\n",
       "        vertical-align: top;\n",
       "    }\n",
       "\n",
       "    .dataframe thead th {\n",
       "        text-align: right;\n",
       "    }\n",
       "</style>\n",
       "<table border=\"1\" class=\"dataframe\">\n",
       "  <thead>\n",
       "    <tr style=\"text-align: right;\">\n",
       "      <th></th>\n",
       "      <th>id</th>\n",
       "      <th>timestamp</th>\n",
       "      <th>country</th>\n",
       "      <th>employment_status</th>\n",
       "      <th>job_title</th>\n",
       "      <th>job_years</th>\n",
       "      <th>is_manager</th>\n",
       "      <th>hours_per_week</th>\n",
       "      <th>telecommute_days_per_week</th>\n",
       "      <th>education</th>\n",
       "      <th>is_education_computer_related</th>\n",
       "      <th>certifications</th>\n",
       "    </tr>\n",
       "  </thead>\n",
       "  <tbody>\n",
       "    <tr>\n",
       "      <th>0</th>\n",
       "      <td>1</td>\n",
       "      <td>12/13/2018 10:23:29</td>\n",
       "      <td>Ukraine</td>\n",
       "      <td>Full time</td>\n",
       "      <td>Developer</td>\n",
       "      <td>5.0</td>\n",
       "      <td>No</td>\n",
       "      <td>40.0</td>\n",
       "      <td>5</td>\n",
       "      <td>Doctorate/PhD</td>\n",
       "      <td>Yes</td>\n",
       "      <td>Yes</td>\n",
       "    </tr>\n",
       "    <tr>\n",
       "      <th>1</th>\n",
       "      <td>2</td>\n",
       "      <td>12/21/2017 3:51:48</td>\n",
       "      <td>United Kingdom</td>\n",
       "      <td>Full time</td>\n",
       "      <td>Developer</td>\n",
       "      <td>10.0</td>\n",
       "      <td>Yes</td>\n",
       "      <td>40.0</td>\n",
       "      <td>1</td>\n",
       "      <td>None (no degree completed)</td>\n",
       "      <td>Unknown</td>\n",
       "      <td>No</td>\n",
       "    </tr>\n",
       "    <tr>\n",
       "      <th>2</th>\n",
       "      <td>3</td>\n",
       "      <td>12/23/2017 12:31:05</td>\n",
       "      <td>United States</td>\n",
       "      <td>Full time</td>\n",
       "      <td>Developer</td>\n",
       "      <td>3.0</td>\n",
       "      <td>No</td>\n",
       "      <td>40.0</td>\n",
       "      <td>0</td>\n",
       "      <td>Associates (2 years)</td>\n",
       "      <td>Yes</td>\n",
       "      <td>Yes</td>\n",
       "    </tr>\n",
       "    <tr>\n",
       "      <th>3</th>\n",
       "      <td>4</td>\n",
       "      <td>12/14/2017 22:09:43</td>\n",
       "      <td>Canada</td>\n",
       "      <td>Full time</td>\n",
       "      <td>Analyst</td>\n",
       "      <td>5.0</td>\n",
       "      <td>No</td>\n",
       "      <td>40.0</td>\n",
       "      <td>0</td>\n",
       "      <td>Bachelors (4 years)</td>\n",
       "      <td>Yes</td>\n",
       "      <td>No</td>\n",
       "    </tr>\n",
       "    <tr>\n",
       "      <th>4</th>\n",
       "      <td>5</td>\n",
       "      <td>1/2/2018 13:29:11</td>\n",
       "      <td>United States</td>\n",
       "      <td>Full time</td>\n",
       "      <td>DBA</td>\n",
       "      <td>5.0</td>\n",
       "      <td>Yes</td>\n",
       "      <td>40.0</td>\n",
       "      <td>0</td>\n",
       "      <td>Bachelors (4 years)</td>\n",
       "      <td>Yes</td>\n",
       "      <td>No</td>\n",
       "    </tr>\n",
       "  </tbody>\n",
       "</table>\n",
       "</div>"
      ],
      "text/plain": [
       "   id            timestamp         country employment_status  job_title  \\\n",
       "0   1  12/13/2018 10:23:29         Ukraine         Full time  Developer   \n",
       "1   2   12/21/2017 3:51:48  United Kingdom         Full time  Developer   \n",
       "2   3  12/23/2017 12:31:05   United States         Full time  Developer   \n",
       "3   4  12/14/2017 22:09:43          Canada         Full time    Analyst   \n",
       "4   5    1/2/2018 13:29:11   United States         Full time        DBA   \n",
       "\n",
       "   job_years is_manager  hours_per_week  telecommute_days_per_week  \\\n",
       "0        5.0         No            40.0                          5   \n",
       "1       10.0        Yes            40.0                          1   \n",
       "2        3.0         No            40.0                          0   \n",
       "3        5.0         No            40.0                          0   \n",
       "4        5.0        Yes            40.0                          0   \n",
       "\n",
       "                    education is_education_computer_related certifications  \n",
       "0               Doctorate/PhD                           Yes            Yes  \n",
       "1  None (no degree completed)                       Unknown             No  \n",
       "2        Associates (2 years)                           Yes            Yes  \n",
       "3         Bachelors (4 years)                           Yes             No  \n",
       "4         Bachelors (4 years)                           Yes             No  "
      ]
     },
     "execution_count": 385,
     "metadata": {},
     "output_type": "execute_result"
    }
   ],
   "source": [
    "#Loading Test data\n",
    "test_data=pd.read_csv('test.csv')\n",
    "test_data.head()"
   ]
  },
  {
   "cell_type": "markdown",
   "metadata": {},
   "source": [
    "Let's extract the year from timestamp, since there might be years where salaries are generally different than others."
   ]
  },
  {
   "cell_type": "code",
   "execution_count": 386,
   "metadata": {
    "colab": {},
    "colab_type": "code",
    "id": "73vBzp7lIKSf"
   },
   "outputs": [
    {
     "data": {
      "text/html": [
       "<div>\n",
       "<style scoped>\n",
       "    .dataframe tbody tr th:only-of-type {\n",
       "        vertical-align: middle;\n",
       "    }\n",
       "\n",
       "    .dataframe tbody tr th {\n",
       "        vertical-align: top;\n",
       "    }\n",
       "\n",
       "    .dataframe thead th {\n",
       "        text-align: right;\n",
       "    }\n",
       "</style>\n",
       "<table border=\"1\" class=\"dataframe\">\n",
       "  <thead>\n",
       "    <tr style=\"text-align: right;\">\n",
       "      <th></th>\n",
       "      <th>timestamp</th>\n",
       "      <th>year</th>\n",
       "    </tr>\n",
       "  </thead>\n",
       "  <tbody>\n",
       "    <tr>\n",
       "      <th>0</th>\n",
       "      <td>12/13/2018 10:23:29</td>\n",
       "      <td>2018</td>\n",
       "    </tr>\n",
       "    <tr>\n",
       "      <th>1</th>\n",
       "      <td>12/21/2017 3:51:48</td>\n",
       "      <td>2017</td>\n",
       "    </tr>\n",
       "    <tr>\n",
       "      <th>2</th>\n",
       "      <td>12/23/2017 12:31:05</td>\n",
       "      <td>2017</td>\n",
       "    </tr>\n",
       "    <tr>\n",
       "      <th>3</th>\n",
       "      <td>12/14/2017 22:09:43</td>\n",
       "      <td>2017</td>\n",
       "    </tr>\n",
       "    <tr>\n",
       "      <th>4</th>\n",
       "      <td>1/2/2018 13:29:11</td>\n",
       "      <td>2018</td>\n",
       "    </tr>\n",
       "    <tr>\n",
       "      <th>...</th>\n",
       "      <td>...</td>\n",
       "      <td>...</td>\n",
       "    </tr>\n",
       "    <tr>\n",
       "      <th>1065</th>\n",
       "      <td>12/20/2017 8:14:34</td>\n",
       "      <td>2017</td>\n",
       "    </tr>\n",
       "    <tr>\n",
       "      <th>1066</th>\n",
       "      <td>12/21/2018 15:46:12</td>\n",
       "      <td>2018</td>\n",
       "    </tr>\n",
       "    <tr>\n",
       "      <th>1067</th>\n",
       "      <td>12/12/2017 11:33:04</td>\n",
       "      <td>2017</td>\n",
       "    </tr>\n",
       "    <tr>\n",
       "      <th>1068</th>\n",
       "      <td>12/17/2018 8:44:54</td>\n",
       "      <td>2018</td>\n",
       "    </tr>\n",
       "    <tr>\n",
       "      <th>1069</th>\n",
       "      <td>1/5/2017 11:20:01</td>\n",
       "      <td>2017</td>\n",
       "    </tr>\n",
       "  </tbody>\n",
       "</table>\n",
       "<p>1070 rows × 2 columns</p>\n",
       "</div>"
      ],
      "text/plain": [
       "                timestamp  year\n",
       "0     12/13/2018 10:23:29  2018\n",
       "1      12/21/2017 3:51:48  2017\n",
       "2     12/23/2017 12:31:05  2017\n",
       "3     12/14/2017 22:09:43  2017\n",
       "4       1/2/2018 13:29:11  2018\n",
       "...                   ...   ...\n",
       "1065   12/20/2017 8:14:34  2017\n",
       "1066  12/21/2018 15:46:12  2018\n",
       "1067  12/12/2017 11:33:04  2017\n",
       "1068   12/17/2018 8:44:54  2018\n",
       "1069    1/5/2017 11:20:01  2017\n",
       "\n",
       "[1070 rows x 2 columns]"
      ]
     },
     "execution_count": 386,
     "metadata": {},
     "output_type": "execute_result"
    }
   ],
   "source": [
    "test_data['year']=pd.DatetimeIndex(test_data['timestamp']).year\n",
    "test_data[['timestamp','year']]"
   ]
  },
  {
   "cell_type": "markdown",
   "metadata": {},
   "source": [
    "We'll drop 'timestamp' from the test data."
   ]
  },
  {
   "cell_type": "code",
   "execution_count": 387,
   "metadata": {
    "colab": {},
    "colab_type": "code",
    "id": "1XiIoLYLIKSj"
   },
   "outputs": [
    {
     "data": {
      "text/plain": [
       "Index(['id', 'country', 'employment_status', 'job_title', 'job_years',\n",
       "       'is_manager', 'hours_per_week', 'telecommute_days_per_week',\n",
       "       'education', 'is_education_computer_related', 'certifications', 'year'],\n",
       "      dtype='object')"
      ]
     },
     "execution_count": 387,
     "metadata": {},
     "output_type": "execute_result"
    }
   ],
   "source": [
    "test_data=test_data.drop(columns=['timestamp'])\n",
    "test_data.columns"
   ]
  },
  {
   "cell_type": "code",
   "execution_count": 388,
   "metadata": {},
   "outputs": [],
   "source": [
    "country=pd.get_dummies(test_data['country'],drop_first=True,dummy_na=False).reset_index(drop=True)\n",
    "country=country.add_prefix('country_')\n",
    "employment_status=pd.get_dummies(test_data['employment_status'],drop_first=True,dummy_na=False).reset_index(drop=True)\n",
    "employment_status=employment_status.add_prefix('employment_status_')\n",
    "job_title=pd.get_dummies(test_data['job_title'],drop_first=True,dummy_na=False).reset_index(drop=True)\n",
    "job_title=job_title.add_prefix('job_title_')\n",
    "education=pd.get_dummies(test_data['education'],drop_first=True,dummy_na=False).reset_index(drop=True)\n",
    "education=education.add_prefix('education_')\n",
    "is_education_computer_related=pd.get_dummies(test_data['is_education_computer_related'],dummy_na=False).reset_index(drop=True)\n",
    "is_education_computer_related=is_education_computer_related.add_prefix('is_education_computer_related_')\n",
    "certifications=pd.get_dummies(test_data['certifications'],drop_first=True,dummy_na=False).reset_index(drop=True)\n",
    "certifications=certifications.add_prefix('certifications_')\n",
    "is_manager=pd.get_dummies(test_data['is_manager'],drop_first=True,dummy_na=False).reset_index(drop=True)\n",
    "is_manager=is_manager.add_prefix('is_manager_')\n",
    "test_data.drop(['country','employment_status','job_title','education','is_education_computer_related','certifications','is_manager'],axis=1,inplace=True)\n",
    "test_data=pd.concat([test_data,country,employment_status,job_title,education,is_education_computer_related,certifications,is_manager], axis=1)"
   ]
  },
  {
   "cell_type": "markdown",
   "metadata": {
    "colab_type": "text",
    "id": "MK_rdXETIKS4"
   },
   "source": [
    "\n",
    "\n",
    "**The management wants to know the most important features for the model.**\n",
    "\n",
    "> #### Task:\n",
    "- **Visualize the top 20 features and their feature importance.**\n"
   ]
  },
  {
   "cell_type": "markdown",
   "metadata": {},
   "source": [
    "Let's define a model"
   ]
  },
  {
   "cell_type": "code",
   "execution_count": 389,
   "metadata": {},
   "outputs": [],
   "source": [
    "# define the model\n",
    "XGBRmodel = XGBRegressor()"
   ]
  },
  {
   "cell_type": "markdown",
   "metadata": {},
   "source": [
    "Let's fit the model, note that we drop observations where at least one feature data point is missing"
   ]
  },
  {
   "cell_type": "code",
   "execution_count": 390,
   "metadata": {},
   "outputs": [
    {
     "data": {
      "text/plain": [
       "XGBRegressor(base_score=0.5, booster='gbtree', colsample_bylevel=1,\n",
       "             colsample_bynode=1, colsample_bytree=1, enable_categorical=False,\n",
       "             gamma=0, gpu_id=-1, importance_type=None,\n",
       "             interaction_constraints='', learning_rate=0.300000012,\n",
       "             max_delta_step=0, max_depth=6, min_child_weight=1, missing=nan,\n",
       "             monotone_constraints='()', n_estimators=100, n_jobs=8,\n",
       "             num_parallel_tree=1, predictor='auto', random_state=0, reg_alpha=0,\n",
       "             reg_lambda=1, scale_pos_weight=1, subsample=1, tree_method='exact',\n",
       "             validate_parameters=1, verbosity=None)"
      ]
     },
     "execution_count": 390,
     "metadata": {},
     "output_type": "execute_result"
    }
   ],
   "source": [
    "data=data.dropna()\n",
    "X = data.copy()\n",
    "X=X.drop(columns=['id','salary'])\n",
    "y = data[\"salary\"]\n",
    "X = X.iloc[:,:]\n",
    "# fit the model\n",
    "XGBRmodel.fit(X, y)"
   ]
  },
  {
   "cell_type": "markdown",
   "metadata": {},
   "source": [
    "Let's visualize the top 20 features and their feature importance, ordered from most to least important."
   ]
  },
  {
   "cell_type": "code",
   "execution_count": 391,
   "metadata": {
    "colab": {},
    "colab_type": "code",
    "id": "jabG4TJwIKS_",
    "scrolled": false
   },
   "outputs": [
    {
     "name": "stdout",
     "output_type": "stream",
     "text": [
      "Feature: 0, Score: 0.15242\n",
      "Feature: 1, Score: 0.02853\n",
      "Feature: 2, Score: 0.02641\n",
      "Feature: 3, Score: 0.02320\n",
      "Feature: 4, Score: 0.02247\n",
      "Feature: 5, Score: 0.02229\n",
      "Feature: 6, Score: 0.02221\n",
      "Feature: 7, Score: 0.02187\n",
      "Feature: 8, Score: 0.02158\n",
      "Feature: 9, Score: 0.02109\n",
      "Feature: 10, Score: 0.02047\n",
      "Feature: 11, Score: 0.02042\n",
      "Feature: 12, Score: 0.01973\n",
      "Feature: 13, Score: 0.01968\n",
      "Feature: 14, Score: 0.01915\n",
      "Feature: 15, Score: 0.01797\n",
      "Feature: 16, Score: 0.01796\n",
      "Feature: 17, Score: 0.01787\n",
      "Feature: 18, Score: 0.01773\n",
      "Feature: 19, Score: 0.01743\n"
     ]
    },
    {
     "data": {
      "image/png": "[encoded data removed]",
      "text/plain": [
       "<Figure size 432x288 with 1 Axes>"
      ]
     },
     "metadata": {},
     "output_type": "display_data"
    }
   ],
   "source": [
    "# get importance\n",
    "importance=XGBRmodel.feature_importances_\n",
    "importance=np.sort(importance)[::-1]\n",
    "importance_idxs=np.argsort(importance)[::-1]\n",
    "X = data.copy()\n",
    "X=X.drop(columns=['id','salary'])\n",
    "features=[X.columns[i] for i in importance_idxs]\n",
    "# summarize feature importance\n",
    "for i,v in enumerate(importance[0:20]):\n",
    "\tprint('Feature: %0d, Score: %.5f' % (i,v))\n",
    "# plot feature importance\n",
    "pyplot.bar([features[x] for x in range(len(importance[0:20]))],importance[0:20])\n",
    "pyplot.xticks(rotation=90)\n",
    "pyplot.ylabel('Score')\n",
    "pyplot.xlabel('Feature')\n",
    "pyplot.title('Top 20 features - XGBoostRegressor Model')\n",
    "pyplot.show()\n",
    "X_train=X.copy()"
   ]
  },
  {
   "cell_type": "markdown",
   "metadata": {},
   "source": [
    "XGBoostRegressor Mean Absolute Error"
   ]
  },
  {
   "cell_type": "code",
   "execution_count": 392,
   "metadata": {},
   "outputs": [
    {
     "name": "stdout",
     "output_type": "stream",
     "text": [
      "477.3737724558536\n"
     ]
    }
   ],
   "source": [
    "y_train=XGBRmodel.predict(X)\n",
    "print(mean_absolute_error(y,y_train))"
   ]
  },
  {
   "cell_type": "markdown",
   "metadata": {},
   "source": [
    "Let us do the similar analysis changing the model to a Linear Regression model."
   ]
  },
  {
   "cell_type": "code",
   "execution_count": 393,
   "metadata": {},
   "outputs": [
    {
     "data": {
      "text/plain": [
       "LinearRegression()"
      ]
     },
     "execution_count": 393,
     "metadata": {},
     "output_type": "execute_result"
    }
   ],
   "source": [
    "# define the model\n",
    "LRmodel=LinearRegression()\n",
    "data=data.dropna()\n",
    "X = data.copy()\n",
    "X=X.drop(columns=['id','salary'])\n",
    "y = data[\"salary\"]\n",
    "X = X.iloc[:,:]\n",
    "# fit the model\n",
    "LRmodel.fit(X, y)"
   ]
  },
  {
   "cell_type": "markdown",
   "metadata": {},
   "source": [
    "Let's look at feature importance in this model"
   ]
  },
  {
   "cell_type": "code",
   "execution_count": 394,
   "metadata": {
    "scrolled": true
   },
   "outputs": [
    {
     "name": "stdout",
     "output_type": "stream",
     "text": [
      "Feature: 0, Score: 3428.98555\n",
      "Feature: 1, Score: 3313.47869\n",
      "Feature: 2, Score: 2822.72211\n",
      "Feature: 3, Score: 2082.10911\n",
      "Feature: 4, Score: 1768.02854\n",
      "Feature: 5, Score: 1533.88931\n",
      "Feature: 6, Score: 1521.17109\n",
      "Feature: 7, Score: 1511.48363\n",
      "Feature: 8, Score: 1468.96671\n",
      "Feature: 9, Score: 1369.73057\n",
      "Feature: 10, Score: 1253.26906\n",
      "Feature: 11, Score: 1191.91939\n",
      "Feature: 12, Score: 1047.31342\n",
      "Feature: 13, Score: 1046.11861\n",
      "Feature: 14, Score: 1030.28218\n",
      "Feature: 15, Score: 1011.21778\n",
      "Feature: 16, Score: 1008.74071\n",
      "Feature: 17, Score: 991.20431\n",
      "Feature: 18, Score: 967.02984\n",
      "Feature: 19, Score: 956.59177\n"
     ]
    },
    {
     "data": {
      "image/png": "[encoded data removed]",
      "text/plain": [
       "<Figure size 432x288 with 1 Axes>"
      ]
     },
     "metadata": {},
     "output_type": "display_data"
    }
   ],
   "source": [
    "# get importance\n",
    "coefficients=LRmodel.coef_\n",
    "importance=np.sort(abs(coefficients))[::-1]\n",
    "importance_idxs=np.argsort(abs(coefficients))[::-1]\n",
    "X = data.copy()\n",
    "X=X.drop(columns=['id','salary'])\n",
    "features=[X.columns[i] for i in importance_idxs]\n",
    "coefficients=[coefficients[i] for i in importance_idxs]\n",
    "# coefficients\n",
    "# summarize feature importance\n",
    "for i,v in enumerate(importance[0:20]):\n",
    "\tprint('Feature: %0d, Score: %.5f' % (i,v))\n",
    "# plot feature importance\n",
    "pyplot.bar([features[x] for x in range(len(importance[0:20]))],coefficients[0:20])\n",
    "pyplot.xticks(rotation=90)\n",
    "pyplot.ylabel('Coefficient')\n",
    "pyplot.xlabel('Feature')\n",
    "pyplot.title('Top 20 features - Linear Regression Model')\n",
    "pyplot.show()"
   ]
  },
  {
   "cell_type": "markdown",
   "metadata": {},
   "source": [
    "The first thing that we note is that feature importace is remarkably different using the XGBoostRegressor Model or the Linear Regression Model. \n",
    "Second, with the Linear Regression Model we can have a linear interpretation of the coefficients:\n",
    "in the model, Senior Consultants receive higher than average annual salaries (above USD 3,000 monthly). Architects and Engineers also have higher than average monthly salaries.\n",
    "Countries like Taiwan and Pakistan have a negative effect on salaries."
   ]
  },
  {
   "cell_type": "markdown",
   "metadata": {},
   "source": [
    "Linear Regression Mean Absolute Error"
   ]
  },
  {
   "cell_type": "code",
   "execution_count": 395,
   "metadata": {},
   "outputs": [
    {
     "name": "stdout",
     "output_type": "stream",
     "text": [
      "847.0373471764875\n"
     ]
    }
   ],
   "source": [
    "y_train=LRmodel.predict(X)\n",
    "print(mean_absolute_error(y,y_train))"
   ]
  },
  {
   "cell_type": "markdown",
   "metadata": {},
   "source": [
    "Mean absolute error is lower for the XGBoostRegressor Model in the train data. Based on this metric, we shall discriminate the two models in favour of he XGBoostRegressor Model."
   ]
  },
  {
   "cell_type": "markdown",
   "metadata": {
    "colab_type": "text",
    "id": "UFogmgYZIKTE"
   },
   "source": [
    "> #### Task:\n",
    "- **Submit the predictions on the test dataset using the optimized model** <br/>\n",
    "    For each record in the test set (`test.csv`), predict the value of the `salary` variable. Submit a CSV file with a header row and one row per test entry. \n",
    "\n",
    "The file (`submissions.csv`) should have exactly 2 columns:\n",
    "   - **id**\n",
    "   - **salary**"
   ]
  },
  {
   "cell_type": "code",
   "execution_count": 396,
   "metadata": {
    "colab": {},
    "colab_type": "code",
    "id": "7xgNg25MIKTG"
   },
   "outputs": [],
   "source": [
    "# out-of-sample prediction:\n",
    "# test_data=test_data.dropna()\n",
    "X = test_data.copy()\n",
    "X=X.drop(columns=['id'])\n",
    "# Get missing columns in the training test\n",
    "missing_cols = set( X_train.columns ) - set( X.columns )\n",
    "# Add a missing column in test set with default value equal to 0\n",
    "for c in missing_cols:\n",
    "    X[c] = 0\n",
    "# Ensure the order of column in the test set is in the same order than in train set\n",
    "X = X[X_train.columns]\n",
    "y_test=XGBRmodel.predict(X)"
   ]
  },
  {
   "cell_type": "code",
   "execution_count": 405,
   "metadata": {
    "colab": {},
    "colab_type": "code",
    "id": "OaxN7BjwIKTL"
   },
   "outputs": [
    {
     "data": {
      "text/html": [
       "<div>\n",
       "<style scoped>\n",
       "    .dataframe tbody tr th:only-of-type {\n",
       "        vertical-align: middle;\n",
       "    }\n",
       "\n",
       "    .dataframe tbody tr th {\n",
       "        vertical-align: top;\n",
       "    }\n",
       "\n",
       "    .dataframe thead th {\n",
       "        text-align: right;\n",
       "    }\n",
       "</style>\n",
       "<table border=\"1\" class=\"dataframe\">\n",
       "  <thead>\n",
       "    <tr style=\"text-align: right;\">\n",
       "      <th></th>\n",
       "      <th>id</th>\n",
       "      <th>salary</th>\n",
       "    </tr>\n",
       "  </thead>\n",
       "  <tbody>\n",
       "    <tr>\n",
       "      <th>0</th>\n",
       "      <td>1</td>\n",
       "      <td>6784.928223</td>\n",
       "    </tr>\n",
       "    <tr>\n",
       "      <th>1</th>\n",
       "      <td>2</td>\n",
       "      <td>6364.805176</td>\n",
       "    </tr>\n",
       "    <tr>\n",
       "      <th>2</th>\n",
       "      <td>3</td>\n",
       "      <td>6728.322754</td>\n",
       "    </tr>\n",
       "    <tr>\n",
       "      <th>3</th>\n",
       "      <td>4</td>\n",
       "      <td>6128.474121</td>\n",
       "    </tr>\n",
       "    <tr>\n",
       "      <th>4</th>\n",
       "      <td>5</td>\n",
       "      <td>7137.573730</td>\n",
       "    </tr>\n",
       "  </tbody>\n",
       "</table>\n",
       "</div>"
      ],
      "text/plain": [
       "   id       salary\n",
       "0   1  6784.928223\n",
       "1   2  6364.805176\n",
       "2   3  6728.322754\n",
       "3   4  6128.474121\n",
       "4   5  7137.573730"
      ]
     },
     "execution_count": 405,
     "metadata": {},
     "output_type": "execute_result"
    }
   ],
   "source": [
    "test_data['salary']=y_test\n",
    "submission_df=test_data[['id','salary']]\n",
    "# submission_df.head()\n",
    "submission_df.head()"
   ]
  },
  {
   "cell_type": "code",
   "execution_count": 406,
   "metadata": {
    "colab": {},
    "colab_type": "code",
    "id": "nBRVPrYbIKTQ"
   },
   "outputs": [],
   "source": [
    "#Submission\n",
    "submission_df.to_csv('submission.csv',index=False)"
   ]
  },
  {
   "cell_type": "markdown",
   "metadata": {
    "colab_type": "text",
    "id": "H_pB8zTcIKTW"
   },
   "source": [
    "---"
   ]
  }
 ],
 "metadata": {
  "colab": {
   "collapsed_sections": [],
   "name": "Questions.ipynb",
   "provenance": []
  },
  "kernelspec": {
   "display_name": "Python 3",
   "language": "python",
   "name": "python3"
  },
  "language_info": {
   "codemirror_mode": {
    "name": "ipython",
    "version": 3
   },
   "file_extension": ".py",
   "mimetype": "text/x-python",
   "name": "python",
   "nbconvert_exporter": "python",
   "pygments_lexer": "ipython3",
   "version": "3.8.8"
  },
  "toc": {
   "base_numbering": 1,
   "nav_menu": {},
   "number_sections": true,
   "sideBar": true,
   "skip_h1_title": false,
   "title_cell": "Table of Contents",
   "title_sidebar": "Contents",
   "toc_cell": false,
   "toc_position": {},
   "toc_section_display": true,
   "toc_window_display": false
  }
 },
 "nbformat": 4,
 "nbformat_minor": 4
}
